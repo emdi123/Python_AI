{
 "cells": [
  {
   "cell_type": "markdown",
   "metadata": {},
   "source": [
    "# Classification using Decision trees, a basic tutorial"
   ]
  },
  {
   "cell_type": "code",
   "execution_count": 1,
   "metadata": {},
   "outputs": [],
   "source": [
    "#Importing necessary modules/libraries\n",
    "#for data import and processing\n",
    "import pandas as pd\n",
    "import numpy as np\n",
    "from sklearn import preprocessing \n",
    "from sklearhttp://localhost:8891/notebooks/DecisionTrees%20and%20RandomForest.ipynb#n.preprocessing import LabelEncoder,StandardScaler #for standardizing data\n",
    "                                   \n",
    "le=LabelEncoder() # Converting categorical to Numeric\n",
    "\n",
    "from sklearn.model_selection import train_test_split #splitting data into test and train\n",
    "\n",
    "from sklearn.tree import DecisionTreeClassifier #classifier\n",
    "from sklearn.ensemble import  RandomForestClassifier   #classifier                     \n",
    "from sklearn.metrics import classification_report,confusion_matrix, accuracy_score, f1_score # Quality check of the qualifier\n",
    "\n",
    "# for plotting\n",
    "import matplotlib.pyplot as plt \n",
    "plt.rc(\"font\", size = 14)\n",
    "import seaborn as sns\n",
    "sns.set(style=\"white\")\n",
    "sns.set(style=\"whitegrid\", color_codes = True)\n",
    "%matplotlib inline\n",
    "seed = 40"
   ]
  },
  {
   "cell_type": "markdown",
   "metadata": {},
   "source": [
    "# Import data"
   ]
  },
  {
   "cell_type": "code",
   "execution_count": 2,
   "metadata": {},
   "outputs": [],
   "source": [
    "#import the data\n",
    "df = pd.read_csv('datascience/import_data/bank-additional-full.csv', delimiter=';' )\n",
    "#drop the undesired column\n",
    "data = df.drop([\"duration\",\"emp.var.rate\",\"euribor3m\"], axis =1)# axis shows it is a column and row\n",
    "\n",
    "#Convert categorical to numeric using le transform\n",
    "for col in data.columns.values:\n",
    "     if data[col].dtypes==\"object\":\n",
    "        le.fit(data[col].values)\n",
    "        data[col]=le.transform(data[col])\n",
    "\n"
   ]
  },
  {
   "cell_type": "markdown",
   "metadata": {},
   "source": [
    "# Divide into test and train datasets"
   ]
  },
  {
   "cell_type": "code",
   "execution_count": 3,
   "metadata": {},
   "outputs": [],
   "source": [
    "#test_train split\n",
    "def test_train(dataset,seed):\n",
    "    #Number of columns\n",
    "    n= len(dataset.columns)\n",
    "    array = dataset.values\n",
    "    X = array[:,0:n-1]\n",
    "    y = array[:,n-1]\n",
    "    validation_size = 0.20\n",
    "    X_train, X_test, y_train, y_test = train_test_split(X, y, test_size=validation_size, random_state=seed)\n",
    "    return  X_train, X_test, y_train, y_test\n",
    "\n",
    "#run the function\n",
    "X_train, X_test, y_train, y_test = test_train(data,seed)\n",
    "\n",
    "\n"
   ]
  },
  {
   "cell_type": "markdown",
   "metadata": {},
   "source": [
    "# Decision tree"
   ]
  },
  {
   "cell_type": "code",
   "execution_count": 4,
   "metadata": {},
   "outputs": [],
   "source": [
    "dtree = DecisionTreeClassifier(criterion='gini',\n",
    "                               splitter= 'best', #best or random\n",
    "                               max_depth=None, \n",
    "                               min_samples_split=2, \n",
    "                               min_samples_leaf=1,\n",
    "                               min_weight_fraction_leaf=0.0, \n",
    "                               max_features=None, #If int, then consider max_features features at each split.\n",
    "                                                #If float, then max_features is a percentage and int(max_features * n_features) features are considered at each split.\n",
    "                                                #If “auto”, then max_features=sqrt(n_features).\n",
    "                                                #If “sqrt”, then max_features=sqrt(n_features).\n",
    "                                                #If “log2”, then max_features=log2(n_features).\n",
    "                                                #If None, then max_features=n_features.\n",
    "                               random_state=None, \n",
    "                               max_leaf_nodes=None,\n",
    "                               min_impurity_decrease=0.0, #A node will be split if this split induces a decrease \n",
    "                                                          #of the impurity greater than or equal to this value.\n",
    "                               min_impurity_split=None, \n",
    "                               class_weight=None, #dict, list of dicts, “balanced” or None,\n",
    "                               presort=False)\n",
    "\n"
   ]
  },
  {
   "cell_type": "code",
   "execution_count": 5,
   "metadata": {},
   "outputs": [
    {
     "data": {
      "text/plain": [
       "DecisionTreeClassifier(class_weight=None, criterion='gini', max_depth=None,\n",
       "            max_features=None, max_leaf_nodes=None,\n",
       "            min_impurity_decrease=0.0, min_impurity_split=None,\n",
       "            min_samples_leaf=1, min_samples_split=2,\n",
       "            min_weight_fraction_leaf=0.0, presort=False, random_state=None,\n",
       "            splitter='best')"
      ]
     },
     "execution_count": 5,
     "metadata": {},
     "output_type": "execute_result"
    }
   ],
   "source": [
    "#Fit the data to the tree\n",
    "dtree.fit(X_train,y_train)"
   ]
  },
  {
   "cell_type": "code",
   "execution_count": 6,
   "metadata": {
    "collapsed": true
   },
   "outputs": [],
   "source": [
    "#let's \n",
    "predictions = dtree.predict(X_test)\n"
   ]
  },
  {
   "cell_type": "markdown",
   "metadata": {},
   "source": [
    "# Quality Check"
   ]
  },
  {
   "cell_type": "code",
   "execution_count": 7,
   "metadata": {},
   "outputs": [
    {
     "name": "stdout",
     "output_type": "stream",
     "text": [
      "             precision    recall  f1-score   support\n",
      "\n",
      "        0.0       0.91      0.91      0.91      7250\n",
      "        1.0       0.31      0.31      0.31       988\n",
      "\n",
      "avg / total       0.83      0.83      0.83      8238\n",
      "\n"
     ]
    }
   ],
   "source": [
    "#classification report\n",
    "print(classification_report(y_test,predictions))"
   ]
  },
  {
   "cell_type": "code",
   "execution_count": 8,
   "metadata": {},
   "outputs": [
    {
     "name": "stdout",
     "output_type": "stream",
     "text": [
      "[[6565  685]\n",
      " [ 684  304]]\n",
      "Accuracy is 83.38%\n"
     ]
    }
   ],
   "source": [
    "#Confusion matrix\n",
    "cm=confusion_matrix(y_test,predictions)\n",
    "print(cm)\n",
    "#Accuracy\n",
    "ac= accuracy_score(y_test,predictions)\n",
    "print(\"Accuracy is %.2f%%\"% (ac*100))"
   ]
  },
  {
   "cell_type": "markdown",
   "metadata": {},
   "source": [
    "# Result interpretation"
   ]
  },
  {
   "cell_type": "raw",
   "metadata": {},
   "source": [
    "1. Precision: Precision is the  number of positive predictions divided by the total number of positive class values predicted. Also called  Positive Predictive Value (PPV). Calculated as (TP)/(TP+FP). \n",
    "2. Recall: Recall (Sensitivity) number of positive predictions divided by the number of positive class values in\n",
    "the test data (Total cases). Calculated as (TP)/(TP+FN). \n",
    "3. F1 Score: The F1 Score is the 2*((precision*recall)/(precision+recall))\n",
    "\n",
    "Thump rules:\n",
    "\n",
    "1. For unbalenced data, accuracy is meaningless. In our case the classes are unbalenced. Hence accuracy is meaningless.\n",
    "2. Precision, Recall and F1 score are above 50% which is good\n",
    "\n",
    "\n"
   ]
  },
  {
   "cell_type": "markdown",
   "metadata": {},
   "source": [
    "# Random Forest"
   ]
  },
  {
   "cell_type": "markdown",
   "metadata": {},
   "source": [
    "let's do a model fitting and prediction using Random forest"
   ]
  },
  {
   "cell_type": "code",
   "execution_count": 9,
   "metadata": {},
   "outputs": [],
   "source": [
    "rfc= RandomForestClassifier(n_estimators=100,\n",
    "                            criterion=\"gini\",\n",
    "                            max_depth=None, \n",
    "                            min_samples_split=2, \n",
    "                            min_samples_leaf=1, \n",
    "                            min_weight_fraction_leaf=0.0, \n",
    "                            max_features=\"auto\", \n",
    "                            max_leaf_nodes=None, \n",
    "                            min_impurity_decrease=0.0, \n",
    "                            min_impurity_split=None, \n",
    "                            bootstrap=True, \n",
    "                            oob_score=False, \n",
    "                            n_jobs=3, \n",
    "                            random_state=None, \n",
    "                            verbose=1, \n",
    "                            warm_start=False, \n",
    "                            class_weight=None)"
   ]
  },
  {
   "cell_type": "code",
   "execution_count": 10,
   "metadata": {},
   "outputs": [
    {
     "name": "stderr",
     "output_type": "stream",
     "text": [
      "[Parallel(n_jobs=3)]: Done  44 tasks      | elapsed:    1.1s\n",
      "[Parallel(n_jobs=3)]: Done 100 out of 100 | elapsed:    2.5s finished\n",
      "[Parallel(n_jobs=3)]: Done  44 tasks      | elapsed:    0.0s\n",
      "[Parallel(n_jobs=3)]: Done 100 out of 100 | elapsed:    0.0s finished\n"
     ]
    }
   ],
   "source": [
    "rfc.fit(X_train, y_train)\n",
    "rfc_pred = rfc.predict(X_test)\n"
   ]
  },
  {
   "cell_type": "markdown",
   "metadata": {},
   "source": [
    "# Quality check"
   ]
  },
  {
   "cell_type": "code",
   "execution_count": 11,
   "metadata": {},
   "outputs": [
    {
     "name": "stdout",
     "output_type": "stream",
     "text": [
      "The F1 score is 83.39%\n"
     ]
    }
   ],
   "source": [
    "f1=f1_score(y_test,predictions, average=\"weighted\") # weigted F1_score take into account the class imbalance\n",
    "print(\"The F1 score is %.2f%%\"%(f1*100))\n"
   ]
  },
  {
   "cell_type": "markdown",
   "metadata": {},
   "source": [
    "# Simulation for number of trees in forest"
   ]
  },
  {
   "cell_type": "code",
   "execution_count": 12,
   "metadata": {},
   "outputs": [
    {
     "name": "stderr",
     "output_type": "stream",
     "text": [
      "[Parallel(n_jobs=3)]: Done   2 out of   2 | elapsed:    0.0s finished\n",
      "[Parallel(n_jobs=2)]: Done   2 out of   2 | elapsed:    0.0s remaining:    0.0s\n",
      "[Parallel(n_jobs=2)]: Done   2 out of   2 | elapsed:    0.0s finished\n"
     ]
    },
    {
     "name": "stdout",
     "output_type": "stream",
     "text": [
      "F1 score is 83.39%\n"
     ]
    },
    {
     "name": "stderr",
     "output_type": "stream",
     "text": [
      "[Parallel(n_jobs=3)]: Done   4 out of   4 | elapsed:    0.0s remaining:    0.0s\n",
      "[Parallel(n_jobs=3)]: Done   4 out of   4 | elapsed:    0.0s finished\n",
      "[Parallel(n_jobs=3)]: Done   4 out of   4 | elapsed:    0.0s remaining:    0.0s\n",
      "[Parallel(n_jobs=3)]: Done   4 out of   4 | elapsed:    0.0s finished\n"
     ]
    },
    {
     "name": "stdout",
     "output_type": "stream",
     "text": [
      "F1 score is 83.39%\n"
     ]
    },
    {
     "name": "stderr",
     "output_type": "stream",
     "text": [
      "[Parallel(n_jobs=3)]: Done   6 out of   6 | elapsed:    0.1s finished\n",
      "[Parallel(n_jobs=3)]: Done   6 out of   6 | elapsed:    0.0s finished\n"
     ]
    },
    {
     "name": "stdout",
     "output_type": "stream",
     "text": [
      "F1 score is 83.39%\n"
     ]
    },
    {
     "name": "stderr",
     "output_type": "stream",
     "text": [
      "[Parallel(n_jobs=3)]: Done   8 out of   8 | elapsed:    0.2s finished\n",
      "[Parallel(n_jobs=3)]: Done   8 out of   8 | elapsed:    0.0s finished\n"
     ]
    },
    {
     "name": "stdout",
     "output_type": "stream",
     "text": [
      "F1 score is 83.39%\n"
     ]
    },
    {
     "name": "stderr",
     "output_type": "stream",
     "text": [
      "[Parallel(n_jobs=3)]: Done  10 out of  10 | elapsed:    0.2s finished\n",
      "[Parallel(n_jobs=3)]: Done  10 out of  10 | elapsed:    0.0s finished\n"
     ]
    },
    {
     "name": "stdout",
     "output_type": "stream",
     "text": [
      "F1 score is 83.39%\n"
     ]
    },
    {
     "name": "stderr",
     "output_type": "stream",
     "text": [
      "[Parallel(n_jobs=3)]: Done  12 out of  12 | elapsed:    0.2s finished\n",
      "[Parallel(n_jobs=3)]: Done  12 out of  12 | elapsed:    0.0s finished\n"
     ]
    },
    {
     "name": "stdout",
     "output_type": "stream",
     "text": [
      "F1 score is 83.39%\n"
     ]
    },
    {
     "name": "stderr",
     "output_type": "stream",
     "text": [
      "[Parallel(n_jobs=3)]: Done  14 out of  14 | elapsed:    0.3s finished\n",
      "[Parallel(n_jobs=3)]: Done  14 out of  14 | elapsed:    0.0s finished\n"
     ]
    },
    {
     "name": "stdout",
     "output_type": "stream",
     "text": [
      "F1 score is 83.39%\n"
     ]
    },
    {
     "name": "stderr",
     "output_type": "stream",
     "text": [
      "[Parallel(n_jobs=3)]: Done  16 out of  16 | elapsed:    0.3s finished\n",
      "[Parallel(n_jobs=3)]: Done  16 out of  16 | elapsed:    0.0s finished\n"
     ]
    },
    {
     "name": "stdout",
     "output_type": "stream",
     "text": [
      "F1 score is 83.39%\n"
     ]
    },
    {
     "name": "stderr",
     "output_type": "stream",
     "text": [
      "[Parallel(n_jobs=3)]: Done  18 out of  18 | elapsed:    0.3s finished\n",
      "[Parallel(n_jobs=3)]: Done  18 out of  18 | elapsed:    0.0s finished\n"
     ]
    },
    {
     "name": "stdout",
     "output_type": "stream",
     "text": [
      "F1 score is 83.39%\n"
     ]
    },
    {
     "data": {
      "text/plain": [
       "<matplotlib.text.Text at 0x26dc31a2b70>"
      ]
     },
     "execution_count": 12,
     "metadata": {},
     "output_type": "execute_result"
    },
    {
     "data": {
      "image/png": "[encoded data removed]",
      "text/plain": [
       "<matplotlib.figure.Figure at 0x26dc3187dd8>"
      ]
     },
     "metadata": {},
     "output_type": "display_data"
    }
   ],
   "source": [
    "nSim = 10 # number of simulation parameters\n",
    "f1_sim =[]\n",
    "n_trees =[]\n",
    "for i in range(1,nSim):\n",
    "    rfc= RandomForestClassifier(n_estimators= i*2,\n",
    "                            criterion=\"gini\",\n",
    "                            max_depth=None, \n",
    "                            min_samples_split=2, \n",
    "                            min_samples_leaf=1, \n",
    "                            min_weight_fraction_leaf=0.0, \n",
    "                            max_features=\"auto\", \n",
    "                            max_leaf_nodes=None, \n",
    "                            min_impurity_decrease=0.0, \n",
    "                            min_impurity_split=None, \n",
    "                            bootstrap=True, \n",
    "                            oob_score=False, \n",
    "                            n_jobs=3, \n",
    "                            random_state=None, \n",
    "                            verbose=1, \n",
    "                            warm_start=False, \n",
    "                            class_weight=None)\n",
    "    rfc.fit(X_train, y_train)\n",
    "    rfc_pred = rfc.predict(X_test)\n",
    "    f1= f1_score(y_test,predictions, average=\"weighted\") \n",
    "    f1_sim.append(f1)\n",
    "    n_trees.append(i*10)\n",
    "    print(\"F1 score is %.2f%%\"%(f1*100))\n",
    "    \n",
    "\n",
    "\n",
    "plt.figure(figsize=(10,6))\n",
    "plt.scatter(x=n_trees[1:nSim],y=f1_sim[1:nSim],s=60,c='red')\n",
    "plt.title(\"Number of trees in the Random Forest vs. F1 score (criterion: 'gini')\", fontsize=18)\n",
    "plt.xlabel(\"Number of trees\", fontsize=15)\n",
    "plt.ylabel(\"F1 score\", fontsize=15)\n",
    "\n"
   ]
  },
  {
   "cell_type": "markdown",
   "metadata": {},
   "source": [
    "# # Simulation using Entropy as split criteria"
   ]
  },
  {
   "cell_type": "code",
   "execution_count": 13,
   "metadata": {},
   "outputs": [
    {
     "name": "stderr",
     "output_type": "stream",
     "text": [
      "[Parallel(n_jobs=3)]: Done   2 out of   2 | elapsed:    0.0s finished\n",
      "[Parallel(n_jobs=2)]: Done   2 out of   2 | elapsed:    0.0s remaining:    0.0s\n",
      "[Parallel(n_jobs=2)]: Done   2 out of   2 | elapsed:    0.0s finished\n"
     ]
    },
    {
     "name": "stdout",
     "output_type": "stream",
     "text": [
      "F1 score is 83.39%\n"
     ]
    },
    {
     "name": "stderr",
     "output_type": "stream",
     "text": [
      "[Parallel(n_jobs=3)]: Done   4 out of   4 | elapsed:    0.1s remaining:    0.0s\n",
      "[Parallel(n_jobs=3)]: Done   4 out of   4 | elapsed:    0.1s finished\n",
      "[Parallel(n_jobs=3)]: Done   4 out of   4 | elapsed:    0.0s remaining:    0.0s\n",
      "[Parallel(n_jobs=3)]: Done   4 out of   4 | elapsed:    0.0s finished\n"
     ]
    },
    {
     "name": "stdout",
     "output_type": "stream",
     "text": [
      "F1 score is 83.39%\n"
     ]
    },
    {
     "name": "stderr",
     "output_type": "stream",
     "text": [
      "[Parallel(n_jobs=3)]: Done   6 out of   6 | elapsed:    0.1s finished\n",
      "[Parallel(n_jobs=3)]: Done   6 out of   6 | elapsed:    0.0s finished\n"
     ]
    },
    {
     "name": "stdout",
     "output_type": "stream",
     "text": [
      "F1 score is 83.39%\n"
     ]
    },
    {
     "name": "stderr",
     "output_type": "stream",
     "text": [
      "[Parallel(n_jobs=3)]: Done   8 out of   8 | elapsed:    0.2s finished\n",
      "[Parallel(n_jobs=3)]: Done   8 out of   8 | elapsed:    0.0s finished\n"
     ]
    },
    {
     "name": "stdout",
     "output_type": "stream",
     "text": [
      "F1 score is 83.39%\n"
     ]
    },
    {
     "name": "stderr",
     "output_type": "stream",
     "text": [
      "[Parallel(n_jobs=3)]: Done  10 out of  10 | elapsed:    0.2s finished\n",
      "[Parallel(n_jobs=3)]: Done  10 out of  10 | elapsed:    0.0s finished\n"
     ]
    },
    {
     "name": "stdout",
     "output_type": "stream",
     "text": [
      "F1 score is 83.39%\n"
     ]
    },
    {
     "name": "stderr",
     "output_type": "stream",
     "text": [
      "[Parallel(n_jobs=3)]: Done  12 out of  12 | elapsed:    0.2s finished\n",
      "[Parallel(n_jobs=3)]: Done  12 out of  12 | elapsed:    0.0s finished\n"
     ]
    },
    {
     "name": "stdout",
     "output_type": "stream",
     "text": [
      "F1 score is 83.39%\n"
     ]
    },
    {
     "name": "stderr",
     "output_type": "stream",
     "text": [
      "[Parallel(n_jobs=3)]: Done  14 out of  14 | elapsed:    0.2s finished\n",
      "[Parallel(n_jobs=3)]: Done  14 out of  14 | elapsed:    0.0s finished\n"
     ]
    },
    {
     "name": "stdout",
     "output_type": "stream",
     "text": [
      "F1 score is 83.39%\n"
     ]
    },
    {
     "name": "stderr",
     "output_type": "stream",
     "text": [
      "[Parallel(n_jobs=3)]: Done  16 out of  16 | elapsed:    0.4s finished\n",
      "[Parallel(n_jobs=3)]: Done  16 out of  16 | elapsed:    0.0s finished\n"
     ]
    },
    {
     "name": "stdout",
     "output_type": "stream",
     "text": [
      "F1 score is 83.39%\n"
     ]
    },
    {
     "name": "stderr",
     "output_type": "stream",
     "text": [
      "[Parallel(n_jobs=3)]: Done  18 out of  18 | elapsed:    0.4s finished\n",
      "[Parallel(n_jobs=3)]: Done  18 out of  18 | elapsed:    0.0s finished\n"
     ]
    },
    {
     "name": "stdout",
     "output_type": "stream",
     "text": [
      "F1 score is 83.39%\n"
     ]
    },
    {
     "data": {
      "text/plain": [
       "<matplotlib.text.Text at 0x26dc30b1550>"
      ]
     },
     "execution_count": 13,
     "metadata": {},
     "output_type": "execute_result"
    },
    {
     "data": {
      "image/png": "[encoded data removed]",
      "text/plain": [
       "<matplotlib.figure.Figure at 0x26dc305fe10>"
      ]
     },
     "metadata": {},
     "output_type": "display_data"
    }
   ],
   "source": [
    "nSim = 10 # number of simulation parameters\n",
    "f1_sim =[]\n",
    "n_trees =[]\n",
    "for i in range(1,nSim):\n",
    "    rfc= RandomForestClassifier(n_estimators= i*2,\n",
    "                            criterion=\"entropy\",\n",
    "                            max_depth=None, \n",
    "                            min_samples_split=2, \n",
    "                            min_samples_leaf=1, \n",
    "                            min_weight_fraction_leaf=0.0, \n",
    "                            max_features=\"auto\", \n",
    "                            max_leaf_nodes=None, \n",
    "                            min_impurity_decrease=0.0, \n",
    "                            min_impurity_split=None, \n",
    "                            bootstrap=True, \n",
    "                            oob_score=False, \n",
    "                            n_jobs=3, \n",
    "                            random_state=None, \n",
    "                            verbose=1, \n",
    "                            warm_start=False, \n",
    "                            class_weight=None)\n",
    "    rfc.fit(X_train, y_train)\n",
    "    rfc_pred = rfc.predict(X_test)\n",
    "    f1= f1_score(y_test,predictions, average=\"weighted\") \n",
    "    f1_sim.append(f1)\n",
    "    n_trees.append(i*10)\n",
    "    print(\"F1 score is %.2f%%\"%(f1*100))\n",
    "    \n",
    "\n",
    "\n",
    "plt.figure(figsize=(10,6))\n",
    "plt.scatter(x=n_trees[1:nSim],y=f1_sim[1:nSim],s=60,c='red')\n",
    "plt.title(\"Number of trees in the Random Forest vs. F1 score (criterion: 'entropy')\", fontsize=18)\n",
    "plt.xlabel(\"Number of trees\", fontsize=15)\n",
    "plt.ylabel(\"F1 score\", fontsize=15)\n",
    "\n"
   ]
  },
  {
   "cell_type": "markdown",
   "metadata": {},
   "source": [
    "Looks like number of trees and changing the split criteria did not change the results. What did change the results is the \n",
    "seed. Try changing the seed and you will seee a different result"
   ]
  }
 ],
 "metadata": {
  "kernelspec": {
   "display_name": "Python 3",
   "language": "python",
   "name": "python3"
  },
  "language_info": {
   "codemirror_mode": {
    "name": "ipython",
    "version": 3
   },
   "file_extension": ".py",
   "mimetype": "text/x-python",
   "name": "python",
   "nbconvert_exporter": "python",
   "pygments_lexer": "ipython3",
   "version": "3.6.1"
  }
 },
 "nbformat": 4,
 "nbformat_minor": 2
}
